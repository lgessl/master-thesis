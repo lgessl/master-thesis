{
 "cells": [
  {
   "cell_type": "markdown",
   "metadata": {},
   "source": [
    "## Analyzing best models on Reddy data\n",
    "\n",
    "* Illumina bulk RNA-seq, 13,302 genes\n",
    "* 604 samples\n",
    "* Rich supply pheno features (clinical, genetic and discrete expression)\n",
    "* 31% have OS < 2.5 (yrs)\n",
    "* IPI-45 has 55% precision, 13% prevalence"
   ]
  },
  {
   "cell_type": "code",
   "execution_count": null,
   "metadata": {
    "vscode": {
     "languageId": "r"
    }
   },
   "outputs": [],
   "source": [
    "library(patroklos)\n",
    "setwd(\"../..\")\n",
    "source(\"src/assess/ass.R\")\n",
    "\n",
    "generate_plots <- F\n",
    "\n",
    "data <- readRDS(\"data/reddy/data.rds\")\n",
    "data$cohort <- \"test\"\n",
    "data$read()"
   ]
  },
  {
   "cell_type": "markdown",
   "metadata": {},
   "source": [
    "### Best RNA-seq only model"
   ]
  },
  {
   "cell_type": "code",
   "execution_count": null,
   "metadata": {
    "vscode": {
     "languageId": "r"
    }
   },
   "outputs": [],
   "source": [
    "# Gauss std @ 2.5\n",
    "model <- readRDS(\"models/reddy/gauss/0-vanilla/std/2-5/models.rds\")\n",
    "for (i in seq(model$split_index)) {\n",
    "    fit_obj <- model$fits[[i]]\n",
    "    coefs <- fit_obj$coef[[fit_obj$lambdaMinIndex]]\n",
    "    rownames(coefs) <- fit_obj$variables.names\n",
    "    print(coefs[coefs[, 1] != 0, , drop = FALSE])\n",
    "}"
   ]
  },
  {
   "cell_type": "code",
   "execution_count": null,
   "metadata": {
    "vscode": {
     "languageId": "r"
    }
   },
   "outputs": [],
   "source": [
    "rpp_prec_as2$file <- \"results/reddy/best-of/rna_only_prec.jpeg\"\n",
    "prec_ci_as2$file <- \"results/reddy/best-of/rna_only_prec_ci.jpeg\"\n",
    "if (generate_plots) {\n",
    "    rpp_prec_as2$assess(data, model, quiet = TRUE)\n",
    "    prec_ci_as2$assess(data, model, quiet = TRUE)\n",
    "}"
   ]
  },
  {
   "cell_type": "markdown",
   "metadata": {
    "vscode": {
     "languageId": "r"
    }
   },
   "source": [
    "### Overall best models"
   ]
  },
  {
   "cell_type": "code",
   "execution_count": null,
   "metadata": {
    "vscode": {
     "languageId": "r"
    }
   },
   "outputs": [],
   "source": [
    "# Late integration Gauss-logistic, all features, up to 1 categorical feature\n",
    "# combined, IPI features dichotomized\n",
    "model <- readRDS(\"models/reddy/gauss/2-late-int/gauss-log-pcv-comb-1-disc-ipi-all/2-5/models.rds\")\n",
    "for (i in seq(model$split_index)) {\n",
    "    fit_obj <- model$fits[[i]]$model2\n",
    "    coefs <- fit_obj$coef[[fit_obj$lambdaMinIndex]]\n",
    "    rownames(coefs) <- fit_obj$variables.names\n",
    "    print(coefs[coefs[, 1] != 0, , drop = FALSE])\n",
    "}"
   ]
  },
  {
   "cell_type": "code",
   "execution_count": null,
   "metadata": {
    "vscode": {
     "languageId": "r"
    }
   },
   "outputs": [],
   "source": [
    "pan_ass_scalar$assess(data, model)\n",
    "rpp_prec_as2$file <- \"results/reddy/best-of/gauss_log1_prec.jpeg\"\n",
    "prec_ci_as2$file <- \"results/reddy/best-of/gauss_log1_prec_ci.jpeg\"\n",
    "if (generate_plots) {\n",
    "    rpp_prec_as2$assess(data, model, quiet = TRUE)\n",
    "    prec_ci_as2$assess(data, model, quiet = TRUE)\n",
    "}"
   ]
  },
  {
   "cell_type": "code",
   "execution_count": null,
   "metadata": {
    "vscode": {
     "languageId": "r"
    }
   },
   "outputs": [],
   "source": [
    "# Late integration Gauss-logistic, all features, up to 2 categorical features\n",
    "# combined, IPI group\n",
    "model <- readRDS(\"models/reddy/gauss/2-late-int/gauss-log-pcv-comb-2-ipi-group-all/2-5/models.rds\")\n",
    "for (i in seq(model$split_index)) {\n",
    "    fit_obj <- model$fits[[i]]$model2\n",
    "    coefs <- fit_obj$coef[[fit_obj$lambdaMinIndex]]\n",
    "    rownames(coefs) <- fit_obj$variables.names\n",
    "    print(coefs[coefs[, 1] != 0, , drop = FALSE])\n",
    "}"
   ]
  },
  {
   "cell_type": "code",
   "execution_count": null,
   "metadata": {
    "vscode": {
     "languageId": "r"
    }
   },
   "outputs": [],
   "source": [
    "rpp_prec_as2$file <- \"results/reddy/best-of/gauss_log1_prec.jpeg\"\n",
    "prec_ci_as2$file <- \"results/reddy/best-of/gauss_log1_prec_ci.jpeg\"\n",
    "if (generate_plots) {\n",
    "    rpp_prec_as2$assess(data, model, quiet = TRUE)\n",
    "    prec_ci_as2$assess(data, model, quiet = TRUE)\n",
    "}"
   ]
  },
  {
   "cell_type": "code",
   "execution_count": null,
   "metadata": {
    "vscode": {
     "languageId": "r"
    }
   },
   "outputs": [],
   "source": [
    "# cox ei comb 1 disc IPI, no expr\n",
    "model <- readRDS(\"models/reddy/cox/3-early-int/cox-ei-comb-1-disc-ipi-all-no-expr/2-5/models.rds\")\n",
    "for (i in seq(model$split_index)) {\n",
    "    fit_obj <- model$fits[[i]]\n",
    "    coefs <- fit_obj$coef[[fit_obj$lambdaMinIndex]]\n",
    "    rownames(coefs) <- fit_obj$variables.names\n",
    "    print(coefs[coefs[, 1] != 0, , drop = FALSE])\n",
    "}"
   ]
  },
  {
   "cell_type": "code",
   "execution_count": null,
   "metadata": {
    "vscode": {
     "languageId": "r"
    }
   },
   "outputs": [],
   "source": [
    "pan_ass_scalar$assess(data, model)\n",
    "rpp_prec_as2$file <- \"results/reddy/best-of/cox_ei1_ne_prec.jpeg\"\n",
    "prec_ci_as2$file <- \"results/reddy/best-of/cox_ei1_ne_prec_ci.jpeg\"\n",
    "if (generate_plots) {\n",
    "    rpp_prec_as2$assess(data, model, quiet = TRUE)\n",
    "    prec_ci_as2$assess(data, model, quiet = TRUE)\n",
    "}"
   ]
  },
  {
   "cell_type": "code",
   "execution_count": null,
   "metadata": {
    "vscode": {
     "languageId": "r"
    }
   },
   "outputs": [],
   "source": []
  }
 ],
 "metadata": {
  "kernelspec": {
   "display_name": "R",
   "language": "R",
   "name": "ir"
  },
  "language_info": {
   "codemirror_mode": "r",
   "file_extension": ".r",
   "mimetype": "text/x-r-source",
   "name": "R",
   "pygments_lexer": "r",
   "version": "4.3.1"
  }
 },
 "nbformat": 4,
 "nbformat_minor": 2
}
