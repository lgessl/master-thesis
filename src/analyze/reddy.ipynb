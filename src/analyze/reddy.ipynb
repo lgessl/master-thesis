{
 "cells": [
  {
   "cell_type": "markdown",
   "metadata": {},
   "source": [
    "## Analyzing best models on Reddy data\n",
    "\n",
    "* Illumina bulk RNA-seq, 13,302 genes\n",
    "* 604 samples\n",
    "* Rich supply pheno features (clinical, genetic and discrete expression)\n",
    "* 31% have OS < 2.5 (yrs)\n",
    "* IPI-45 has 55% precision, 13% prevalence"
   ]
  },
  {
   "cell_type": "code",
   "execution_count": null,
   "metadata": {
    "vscode": {
     "languageId": "r"
    }
   },
   "outputs": [],
   "source": [
    "library(patroklos)\n",
    "setwd(\"../..\")\n",
    "source(\"src/assess/ass.R\")\n",
    "\n",
    "generate_plots <- FALSE\n",
    "\n",
    "data <- readRDS(\"data/reddy/data.rds\")\n",
    "data$cohort <- \"test\""
   ]
  },
  {
   "cell_type": "markdown",
   "metadata": {},
   "source": [
    "### Best RNA-seq only model"
   ]
  },
  {
   "cell_type": "code",
   "execution_count": null,
   "metadata": {
    "vscode": {
     "languageId": "r"
    }
   },
   "outputs": [],
   "source": [
    "# Gauss std @ 2.5\n",
    "model <- readRDS(\"models/reddy/gauss/0-vanilla/std/2-5/models.rds\")\n",
    "for (i in seq(model$split_index)) {\n",
    "    fit_obj <- model$fits[[i]]\n",
    "    coefs <- fit_obj$coef[[fit_obj$lambdaMinIndex]]\n",
    "    rownames(coefs) <- fit_obj$variables.names\n",
    "    print(coefs[coefs[, 1] != 0, , drop = FALSE])\n",
    "}"
   ]
  },
  {
   "cell_type": "code",
   "execution_count": null,
   "metadata": {
    "vscode": {
     "languageId": "r"
    }
   },
   "outputs": [],
   "source": [
    "rpp_prec_as2$file <- \"results/reddy/best-of/rna_only_prec.jpeg\"\n",
    "prec_ci_as2$file <- \"results/reddy/best-of/rna_only_prec_ci.jpeg\"\n",
    "if (generate_plots) {\n",
    "    rpp_prec_as2$assess(data, model, quiet = TRUE)\n",
    "    prec_ci_as2$assess(data, model, quiet = TRUE)\n",
    "}"
   ]
  },
  {
   "cell_type": "markdown",
   "metadata": {
    "vscode": {
     "languageId": "r"
    }
   },
   "source": [
    "### Overall best models"
   ]
  },
  {
   "cell_type": "code",
   "execution_count": null,
   "metadata": {
    "vscode": {
     "languageId": "r"
    }
   },
   "outputs": [],
   "source": [
    "model <- readRDS(\"models/reddy/log/3-early-int/log-ei-comb-4-ipi-group-all-no-expr/2-5/models.rds\")\n",
    "for (i in seq(model$split_index)) {\n",
    "    fit_obj <- model$fits[[i]]\n",
    "    coefs <- fit_obj$coef[[fit_obj$lambdaMinIndex]]\n",
    "    rownames(coefs) <- fit_obj$variables.names\n",
    "    print(coefs[coefs[, 1] != 0, , drop = FALSE])\n",
    "}"
   ]
  },
  {
   "cell_type": "code",
   "execution_count": null,
   "metadata": {
    "vscode": {
     "languageId": "r"
    }
   },
   "outputs": [],
   "source": [
    "rpp_prec_as2$file <- \"results/reddy/best-of/log_ei4_prec.jpeg\"\n",
    "prec_ci_as2$file <- \"results/reddy/best-of/log_ei4_prec_ci.jpeg\"\n",
    "if (generate_plots) {\n",
    "    rpp_prec_as2$assess(data, model, quiet = TRUE)\n",
    "    prec_ci_as2$assess(data, model, quiet = TRUE)\n",
    "}"
   ]
  },
  {
   "cell_type": "code",
   "execution_count": null,
   "metadata": {
    "vscode": {
     "languageId": "r"
    }
   },
   "outputs": [],
   "source": []
  }
 ],
 "metadata": {
  "kernelspec": {
   "display_name": "R",
   "language": "R",
   "name": "ir"
  },
  "language_info": {
   "codemirror_mode": "r",
   "file_extension": ".r",
   "mimetype": "text/x-r-source",
   "name": "R",
   "pygments_lexer": "r",
   "version": "4.3.1"
  }
 },
 "nbformat": 4,
 "nbformat_minor": 2
}
