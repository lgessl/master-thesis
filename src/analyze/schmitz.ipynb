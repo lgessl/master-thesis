{
 "cells": [
  {
   "cell_type": "markdown",
   "metadata": {},
   "source": [
    "## Analyzing best models on Schmitz data\n",
    "\n",
    "* Illumina bulk RNA-seq, 25,066 genes\n",
    "* 229 samples\n",
    "* Just standard pheno variables: IPI variables, ABC/GCB, genetic subtype\n",
    "* 37% have PFS < 2 (yrs)\n",
    "* IPI-45 has 65% precision, 12% prevalence"
   ]
  },
  {
   "cell_type": "code",
   "execution_count": 1,
   "metadata": {
    "vscode": {
     "languageId": "r"
    }
   },
   "outputs": [],
   "source": [
    "library(patroklos)\n",
    "setwd(\"../..\")\n",
    "source(\"src/assess/ass.R\")\n",
    "\n",
    "generate_plots <- F\n",
    "\n",
    "data <- readRDS(\"data/schmitz/data.rds\")\n",
    "data$cohort <- \"test\""
   ]
  },
  {
   "cell_type": "markdown",
   "metadata": {},
   "source": [
    "### A very good RNA-seq only model"
   ]
  },
  {
   "cell_type": "code",
   "execution_count": 6,
   "metadata": {
    "vscode": {
     "languageId": "r"
    }
   },
   "outputs": [
    {
     "name": "stdout",
     "output_type": "stream",
     "text": [
      "time cutoff: 1.25 \n",
      "108 x 1 sparse Matrix of class \"dgCMatrix\"\n",
      "                          \n",
      "intercept     8.103189e-01\n",
      "ACTG2        -1.041003e-03\n",
      "ACTN2        -1.345953e-03\n",
      "ADIPOQ        5.637233e-04\n",
      "ALDH3B2       7.872691e-04\n",
      "ANKFN1       -2.059980e-02\n",
      "AP1M2         5.669616e-03\n",
      "C1orf130     -1.513849e-02\n",
      "C20orf26     -3.055159e-03\n",
      "C6orf123      4.442171e-02\n",
      "C8orf30B     -3.375662e-03\n",
      "CACNA1E      -9.119821e-03\n",
      "CACNA1I      -3.195678e-02\n",
      "CCL18         3.254941e-04\n",
      "CECR7        -1.151047e-03\n",
      "CIDEC         2.781866e-02\n",
      "CLDN14       -4.913196e-03\n",
      "COL24A1      -8.353470e-03\n",
      "CRYBA4        7.539312e-03\n",
      "CRYM         -4.873680e-03\n",
      "CSRNP3        6.680937e-03\n",
      "DAPL1         7.523965e-03\n",
      "DEFB1         1.541385e-02\n",
      "DLGAP1       -1.809463e-03\n",
      "EPB41L4B      5.451091e-04\n",
      "EPCAM         2.819729e-03\n",
      "EPHB1        -1.031172e-02\n",
      "FAM167A       9.179545e-03\n",
      "FAM9C        -1.614218e-02\n",
      "FBP2          4.659457e-03\n",
      "FCER1A       -1.308674e-04\n",
      "FCGBP        -3.228590e-04\n",
      "GDA           3.780809e-03\n",
      "GSDMA         6.291397e-03\n",
      "GSTM1         2.572423e-03\n",
      "GYLTL1B      -2.914847e-03\n",
      "HOMER2        7.886828e-04\n",
      "HOXA11        3.013530e-03\n",
      "HOXA11AS      1.633526e-02\n",
      "HSD17B2       1.681040e-02\n",
      "HUNK         -4.095376e-02\n",
      "IFNW1         4.343127e-03\n",
      "IGFL2        -1.065086e-02\n",
      "KCNF1         1.977801e-02\n",
      "KIAA0125     -1.279004e-02\n",
      "KLKB1        -1.295333e-02\n",
      "LEPREL1      -7.954301e-04\n",
      "LGSN          2.169433e-03\n",
      "LOC100130298  6.551072e-03\n",
      "LOC100286946  1.258950e-02\n",
      "LOC100287891 -9.018466e-03\n",
      "LOC100288161  1.956185e-03\n",
      "LOC100288336  2.942800e-03\n",
      "LOC100288731 -1.284049e-03\n",
      "LOC100289289 -6.570814e-03\n",
      "LOC100289465 -2.229031e-03\n",
      "LOC220594    -9.570551e-03\n",
      "LOC285141    -3.806081e-03\n",
      "LOC400950    -4.122187e-02\n",
      "LOC645323     2.894551e-03\n",
      "LOC728816    -7.252261e-03\n",
      "LOC84740     -7.107404e-04\n",
      "LOH3CR2A     -2.064747e-04\n",
      "LRRN3        -4.556956e-03\n",
      "MAP7D2       -1.442302e-03\n",
      "MMP13         2.219613e-03\n",
      "MRO           2.498209e-04\n",
      "MYH3         -6.233625e-04\n",
      "NETO1        -1.116357e-03\n",
      "NGEF         -5.340408e-03\n",
      "NLRP11       -1.067089e-02\n",
      "NLRP4        -1.964032e-03\n",
      "NPIPL2       -8.574138e-03\n",
      "ORM1          3.464980e-03\n",
      "OVOL2         2.151576e-03\n",
      "PNMA5         2.893507e-02\n",
      "POF1B         9.926085e-03\n",
      "PPP1R1A       7.469987e-03\n",
      "PRAME        -1.464249e-03\n",
      "PROC         -4.254987e-03\n",
      "PTGIS        -1.557355e-02\n",
      "RAB3B         4.646748e-04\n",
      "RGPD3        -1.128154e-03\n",
      "RPS4Y1        2.932797e-03\n",
      "RPS6KA6      -1.026642e-02\n",
      "SAMD7         8.595526e-04\n",
      "SERF1A       -2.335032e-02\n",
      "SERPINA9     -7.351171e-03\n",
      "SHANK2       -2.080907e-03\n",
      "SLC16A9       1.420854e-03\n",
      "SLC44A5       1.899799e-02\n",
      "SLC5A12       6.047594e-03\n",
      "SLC9A2        7.232039e-03\n",
      "SMPDL3B      -1.304890e-02\n",
      "SOX11        -1.464732e-03\n",
      "TEX19        -1.959490e-03\n",
      "TFF3          1.552949e-02\n",
      "TIMP4         7.740015e-03\n",
      "TKTL1        -8.573872e-03\n",
      "TNFRSF13B    -1.301085e-03\n",
      "TNR           1.260675e-02\n",
      "TREM2         7.765972e-03\n",
      "UPLP         -5.492116e-03\n",
      "UTS2D        -1.214287e-02\n",
      "VGF           7.122891e-05\n",
      "WNT16        -2.092852e-02\n",
      "XK            6.268301e-03\n",
      "ZBTB16        2.191764e-02\n"
     ]
    }
   ],
   "source": [
    "# Gauss std @ 2.5\n",
    "model <- readRDS(\"models/schmitz/gauss/0-vanilla/zerosum/model.rds\")\n",
    "coefs <- model$fit_obj$coef[[model$fit_obj$lambdaMinIndex]]\n",
    "rownames(coefs) <- model$fit_obj$variables.names\n",
    "cat(\"time cutoff:\", model$fit_obj$time_cutoff, \"\\n\")\n",
    "print(coefs[coefs[, 1] != 0, , drop = FALSE])"
   ]
  },
  {
   "cell_type": "markdown",
   "metadata": {
    "vscode": {
     "languageId": "r"
    }
   },
   "source": [
    "### Overall best models"
   ]
  },
  {
   "cell_type": "code",
   "execution_count": 14,
   "metadata": {
    "vscode": {
     "languageId": "r"
    }
   },
   "outputs": [
    {
     "name": "stdout",
     "output_type": "stream",
     "text": [
      "10 x 1 sparse Matrix of class \"dgCMatrix\"\n",
      "                                                       \n",
      "                                             1.15481502\n",
      "lamis_score++                                0.28669532\n",
      "gender_M&ldh_ratio>1_1++                     0.29282817\n",
      "gene_expression_subgroup_GCB++              -0.03732305\n",
      "genetic_subtype_MCD&age>60_1++               0.92512927\n",
      "lamis_high_1&ecog_performance_status>1_1++   0.27290141\n",
      "age>60_1&ecog_performance_status>1_1++       0.16734247\n",
      "ldh_ratio>1_1&ecog_performance_status>1_1++  0.60750162\n",
      "ldh_ratio>1_1&n_extranodal_sites>1_1++       0.43731399\n",
      "ldh_ratio>1_1&ann_arbor_stage>2_1++          0.14165141\n"
     ]
    }
   ],
   "source": [
    "model <- readRDS(\"models/schmitz/gauss/2-late-int/gauss-cox-disc-ipi-all/model.rds\")\n",
    "fit_obj <- model$fit_obj$model2\n",
    "coefs <- fit_obj$coef[[fit_obj$lambdaMinIndex]]\n",
    "rownames(coefs) <- fit_obj$variables.names\n",
    "print(coefs[coefs[, 1] != 0, , drop = FALSE])"
   ]
  },
  {
   "cell_type": "code",
   "execution_count": 5,
   "metadata": {
    "vscode": {
     "languageId": "r"
    }
   },
   "outputs": [
    {
     "name": "stderr",
     "output_type": "stream",
     "text": [
      "Warning message in (function (mapping = NULL, data = NULL, stat = \"identity\", position = \"identity\", :\n",
      "“\u001b[1m\u001b[22mAll aesthetics have length 1, but the data has 180 rows.\n",
      "\u001b[36mℹ\u001b[39m Please consider using `annotate()` or provide this layer with data containing\n",
      "  a single row.”\n"
     ]
    }
   ],
   "source": [
    "rpp_prec_as2$file <- \"results/schmitz/best-of/log_log4_prec.jpeg\"\n",
    "prec_ci_as2$file <- \"results/schmitz/best-of/log_log4_prec_ci.jpeg\"\n",
    "if (generate_plots) {\n",
    "    rpp_prec_as2$assess(data, model, quiet = TRUE)\n",
    "    prec_ci_as2$assess(data, model, quiet = TRUE)\n",
    "}"
   ]
  }
 ],
 "metadata": {
  "kernelspec": {
   "display_name": "R",
   "language": "R",
   "name": "ir"
  },
  "language_info": {
   "codemirror_mode": "r",
   "file_extension": ".r",
   "mimetype": "text/x-r-source",
   "name": "R",
   "pygments_lexer": "r",
   "version": "4.3.1"
  }
 },
 "nbformat": 4,
 "nbformat_minor": 2
}
