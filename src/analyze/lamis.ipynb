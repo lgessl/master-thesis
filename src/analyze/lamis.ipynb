{
 "cells": [
  {
   "cell_type": "markdown",
   "metadata": {},
   "source": [
    "## Analyzing best models on Lamis test 2 data\n",
    "\n",
    "* NanoString nCounter, 145 genes\n",
    "* 466 samples\n",
    "* Late integration of LAMIS signature (score and thresholded)\n",
    "* 24% have PFS < 2 (yrs)\n",
    "* IPI-45 has 38% precision, 17% prevalence"
   ]
  },
  {
   "cell_type": "code",
   "execution_count": null,
   "metadata": {
    "vscode": {
     "languageId": "r"
    }
   },
   "outputs": [],
   "source": [
    "library(patroklos)\n",
    "setwd(\"../..\")\n",
    "source(\"src/assess/ass.R\")\n",
    "\n",
    "generate_plots <- F\n",
    "\n",
    "data <- readRDS(\"data/lamis_test2/data.rds\")\n",
    "data$read()\n",
    "data$cohort <- \"test\""
   ]
  },
  {
   "cell_type": "markdown",
   "metadata": {},
   "source": [
    "### Best NanoString only model"
   ]
  },
  {
   "cell_type": "code",
   "execution_count": null,
   "metadata": {
    "vscode": {
     "languageId": "r"
    }
   },
   "outputs": [],
   "source": [
    "# Gauss std @ 2.5\n",
    "model <- readRDS(\"models/lamis_test2/cox/0-vanilla/std/Inf/models.rds\")\n",
    "for (i in seq(model$split_index)) {\n",
    "    fit_obj <- model$fits[[i]]\n",
    "    coefs <- fit_obj$coef[[fit_obj$lambdaMinIndex]]\n",
    "    rownames(coefs) <- fit_obj$variables.names\n",
    "    print(coefs[coefs[, 1] != 0, , drop = FALSE])\n",
    "}"
   ]
  },
  {
   "cell_type": "code",
   "execution_count": null,
   "metadata": {
    "vscode": {
     "languageId": "r"
    }
   },
   "outputs": [],
   "source": [
    "rpp_prec_as2$file <- \"results/lamis_test2/best-of/rna_only_prec.jpeg\"\n",
    "prec_ci_as2$file <- \"results/lamis_test2/best-of/rna_only_prec_ci.jpeg\"\n",
    "if (generate_plots) {\n",
    "    rpp_prec_as2$assess(data, model, quiet = TRUE)\n",
    "    prec_ci_as2$assess(data, model, quiet = TRUE)\n",
    "}"
   ]
  },
  {
   "cell_type": "markdown",
   "metadata": {
    "vscode": {
     "languageId": "r"
    }
   },
   "source": [
    "### Overall best models"
   ]
  },
  {
   "cell_type": "code",
   "execution_count": null,
   "metadata": {
    "vscode": {
     "languageId": "r"
    }
   },
   "outputs": [],
   "source": [
    "# Cox EI comb 2 with IPI group, all\n",
    " model <- readRDS(\"models/lamis_test2/cox/3-early-int/cox-ei-comb-2-ipi-group-all-no-expr/Inf/models.rds\")\n",
    "for (i in seq(model$split_index)) {\n",
    "    fit_obj <- model$fits[[i]]\n",
    "    coefs <- fit_obj$coef[[fit_obj$lambdaMinIndex]]\n",
    "    rownames(coefs) <- fit_obj$variables.names\n",
    "    print(coefs[coefs[, 1] != 0, , drop = FALSE])\n",
    "}"
   ]
  },
  {
   "cell_type": "code",
   "execution_count": null,
   "metadata": {
    "vscode": {
     "languageId": "r"
    }
   },
   "outputs": [],
   "source": [
    "# log ei comb 1 with IPI group, all, no expr\n",
    "model <- readRDS(\"models/lamis_test2/logistic/3-early-int/log-ei-comb-1-ipi-group-all-no-expr/Inf/models.rds\") \n",
    "for (i in seq(model$split_index)) {\n",
    "    fit_obj <- model$fits[[i]]\n",
    "    coefs <- fit_obj$coef[[fit_obj$lambdaMinIndex]]\n",
    "    rownames(coefs) <- fit_obj$variables.names\n",
    "    print(coefs[coefs[, 1] != 0, , drop = FALSE])\n",
    "}\n",
    "pan_ass_scalar$assess(data, model, quiet = T)"
   ]
  },
  {
   "cell_type": "code",
   "execution_count": null,
   "metadata": {
    "vscode": {
     "languageId": "r"
    }
   },
   "outputs": [],
   "source": [
    "# cox ei comb 1 with IPI group, all, no expr\n",
    "model <- readRDS(\"models/lamis_test2/cox/3-early-int/cox-ei-comb-1-ipi-group-all-no-expr/Inf/models.rds\") \n",
    "for (i in seq(model$split_index)) {\n",
    "    fit_obj <- model$fits[[i]]\n",
    "    coefs <- fit_obj$coef[[fit_obj$lambdaMinIndex]]\n",
    "    rownames(coefs) <- fit_obj$variables.names\n",
    "    print(coefs[coefs[, 1] != 0, , drop = FALSE])\n",
    "}\n",
    "pan_ass_scalar$assess(data, model, quiet = T)"
   ]
  },
  {
   "cell_type": "code",
   "execution_count": null,
   "metadata": {
    "vscode": {
     "languageId": "r"
    }
   },
   "outputs": [],
   "source": [
    "rpp_prec_as2$file <- \"results/lamis_test2/best-of/log_ei4_prec.jpeg\"\n",
    "prec_ci_as2$file <- \"results/lamis_test2/best-of/log_ei4_prec_ci.jpeg\"\n",
    "if (generate_plots) {\n",
    "    rpp_prec_as2$assess(data, model, quiet = TRUE)\n",
    "    prec_ci_as2$assess(data, model, quiet = TRUE)\n",
    "}"
   ]
  }
 ],
 "metadata": {
  "kernelspec": {
   "display_name": "R",
   "language": "R",
   "name": "ir"
  },
  "language_info": {
   "codemirror_mode": "r",
   "file_extension": ".r",
   "mimetype": "text/x-r-source",
   "name": "R",
   "pygments_lexer": "r",
   "version": "4.3.1"
  }
 },
 "nbformat": 4,
 "nbformat_minor": 2
}
