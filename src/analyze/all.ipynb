{
 "cells": [
  {
   "cell_type": "markdown",
   "metadata": {},
   "source": [
    "## Analyzing best models on combined Schmitz, Reddy, LAMIS data"
   ]
  },
  {
   "cell_type": "code",
   "execution_count": 1,
   "metadata": {
    "vscode": {
     "languageId": "r"
    }
   },
   "outputs": [],
   "source": [
    "library(patroklos)\n",
    "setwd(\"../..\")\n",
    "source(\"src/assess/ass.R\")\n",
    "\n",
    "generate_plots <- F\n",
    "\n",
    "data <- readRDS(\"data/all/data.rds\")\n",
    "data$cohort <- \"schmitz\""
   ]
  },
  {
   "cell_type": "markdown",
   "metadata": {
    "vscode": {
     "languageId": "r"
    }
   },
   "source": [
    "### Overall best models"
   ]
  },
  {
   "cell_type": "code",
   "execution_count": 5,
   "metadata": {
    "vscode": {
     "languageId": "r"
    }
   },
   "outputs": [
    {
     "name": "stdout",
     "output_type": "stream",
     "text": [
      "5 x 1 sparse Matrix of class \"dgCMatrix\"\n",
      "                                                                         \n",
      "lamis_score++                                                   0.3180593\n",
      "ipi_group_intermediate&gene_expression_subgroup_unclassified++ -0.2773964\n",
      "ipi_group_low++                                                -0.8524395\n",
      "gender_m++                                                      0.1919296\n",
      "gender_m&gene_expression_subgroup_unclassified++                0.1233786\n",
      "15 x 1 sparse Matrix of class \"dgCMatrix\"\n",
      "                                                                         \n",
      "intercept                                                       .        \n",
      "lamis_score++                                                   0.3180593\n",
      "ipi_group_intermediate++                                        .        \n",
      "ipi_group_intermediate&gender_m++                               .        \n",
      "ipi_group_intermediate&gene_expression_subgroup_gcb++           .        \n",
      "ipi_group_intermediate&gene_expression_subgroup_unclassified++ -0.2773964\n",
      "ipi_group_low++                                                -0.8524395\n",
      "ipi_group_low&gender_m++                                        .        \n",
      "ipi_group_low&gene_expression_subgroup_gcb++                    .        \n",
      "ipi_group_low&gene_expression_subgroup_unclassified++           .        \n",
      "gender_m++                                                      0.1919296\n",
      "gender_m&gene_expression_subgroup_gcb++                         .        \n",
      "gender_m&gene_expression_subgroup_unclassified++                0.1233786\n",
      "gene_expression_subgroup_gcb++                                  .        \n",
      "gene_expression_subgroup_unclassified++                         .        \n"
     ]
    }
   ],
   "source": [
    "# cox ei lamis score, ipi group, rest, no expression, comb\n",
    "model <- readRDS(\"models/all/cox/early-int/cox-ei-lamis-score-ipi-group-rest-no-expr-comb/Inf/models.rds\")\n",
    "for (i in seq(model$split_index)) {\n",
    "    fit_obj <- model$fits[[i]]\n",
    "    coefs <- fit_obj$coef[[fit_obj$lambdaMinIndex]]\n",
    "    rownames(coefs) <- fit_obj$variables.names\n",
    "    print(coefs[coefs[, 1] != 0, , drop = FALSE])\n",
    "    print(coefs)\n",
    "}"
   ]
  },
  {
   "cell_type": "code",
   "execution_count": 4,
   "metadata": {
    "vscode": {
     "languageId": "r"
    }
   },
   "outputs": [
    {
     "name": "stdout",
     "output_type": "stream",
     "text": [
      "7 x 1 sparse Matrix of class \"dgCMatrix\"\n",
      "                                                    \n",
      "intercept                               -1.090656123\n",
      "lamis_score++                            0.440122737\n",
      "ipi_group_intermediate++                -0.004131759\n",
      "ipi_group_low++                         -1.408072298\n",
      "gender_m++                               0.323465915\n",
      "gene_expression_subgroup_gcb++           .          \n",
      "gene_expression_subgroup_unclassified++ -0.303196727\n"
     ]
    }
   ],
   "source": [
    "# log ei lamis score, ipi group, rest, no expr\n",
    "model <- readRDS(\"models/all/log/early-int/log-ei-lamis-score-ipi-group-rest-no-expr/2/models.rds\")\n",
    "for (i in seq(model$split_index)) {\n",
    "    fit_obj <- model$fits[[i]]\n",
    "    coefs <- fit_obj$coef[[fit_obj$lambdaMinIndex]]\n",
    "    rownames(coefs) <- fit_obj$variables.names\n",
    "    print(coefs)\n",
    "}"
   ]
  }
 ],
 "metadata": {
  "kernelspec": {
   "display_name": "R",
   "language": "R",
   "name": "ir"
  },
  "language_info": {
   "codemirror_mode": "r",
   "file_extension": ".r",
   "mimetype": "text/x-r-source",
   "name": "R",
   "pygments_lexer": "r",
   "version": "4.3.1"
  }
 },
 "nbformat": 4,
 "nbformat_minor": 2
}
