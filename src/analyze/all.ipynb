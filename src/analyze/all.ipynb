{
 "cells": [
  {
   "cell_type": "markdown",
   "metadata": {},
   "source": [
    "## Analyzing best models on combined Schmitz, Reddy, LAMIS data"
   ]
  },
  {
   "cell_type": "code",
   "execution_count": null,
   "metadata": {
    "vscode": {
     "languageId": "r"
    }
   },
   "outputs": [],
   "source": [
    "library(patroklos)\n",
    "setwd(\"../..\")\n",
    "source(\"src/assess/ass.R\")\n",
    "\n",
    "generate_plots <- F\n",
    "\n",
    "data <- readRDS(\"data/all/data.rds\")"
   ]
  },
  {
   "cell_type": "markdown",
   "metadata": {
    "vscode": {
     "languageId": "r"
    }
   },
   "source": [
    "### Overall best models"
   ]
  },
  {
   "cell_type": "markdown",
   "metadata": {
    "vscode": {
     "languageId": "r"
    }
   },
   "source": [
    "#### Reddy $\\to$ Lamis test"
   ]
  },
  {
   "cell_type": "code",
   "execution_count": null,
   "metadata": {
    "vscode": {
     "languageId": "r"
    }
   },
   "outputs": [],
   "source": [
    "# cox ei lamis score, ipi group, rest, no expression, comb\n",
    "model <- readRDS(\"models/all/on_reddy/log/early-int/log-ei-lamis-score-rest-no-expr/model.rds\")\n",
    "fit_obj <- model$fit_obj\n",
    "cat(\"n combo:\", fit_obj$combine_n_max_categorical_features, \"\\n\")\n",
    "cat(\"time cutoff:\", fit_obj$time_cutoff, \"\\n\\n\")\n",
    "coefs <- fit_obj$coef[[fit_obj$lambdaMinIndex]]\n",
    "rownames(coefs) <- fit_obj$variables.names\n",
    "print(coefs[coefs[, 1] != 0, , drop = FALSE])\n",
    "# print(fit_obj$variables.names)"
   ]
  },
  {
   "cell_type": "code",
   "execution_count": null,
   "metadata": {
    "vscode": {
     "languageId": "r"
    }
   },
   "outputs": [],
   "source": []
  }
 ],
 "metadata": {
  "kernelspec": {
   "display_name": "R",
   "language": "R",
   "name": "ir"
  },
  "language_info": {
   "codemirror_mode": "r",
   "file_extension": ".r",
   "mimetype": "text/x-r-source",
   "name": "R",
   "pygments_lexer": "r",
   "version": "4.3.1"
  }
 },
 "nbformat": 4,
 "nbformat_minor": 2
}
